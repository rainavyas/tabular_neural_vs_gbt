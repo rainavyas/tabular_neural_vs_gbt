{
 "cells": [
  {
   "cell_type": "code",
   "execution_count": 1,
   "metadata": {},
   "outputs": [],
   "source": [
    "import rtdl\n",
    "import torch\n",
    "import torch.nn as nn\n",
    "import torch.nn.functional as F"
   ]
  },
  {
   "cell_type": "code",
   "execution_count": 3,
   "metadata": {},
   "outputs": [],
   "source": [
    "import pandas as pd\n",
    "test_path = '../../data_preprocessed/dev_in.csv'\n",
    "df_test = pd.read_csv(test_path)"
   ]
  },
  {
   "cell_type": "code",
   "execution_count": 4,
   "metadata": {},
   "outputs": [],
   "source": [
    "import numpy as np\n",
    "X_test_np = np.asarray(df_test.iloc[:,6:])\n",
    "X_test = torch.FloatTensor(X_test_np)"
   ]
  },
  {
   "cell_type": "code",
   "execution_count": 8,
   "metadata": {},
   "outputs": [],
   "source": [
    "# Preprocess into tensors\n",
    "\n",
    "from torch.utils.data import TensorDataset\n",
    "from torch.utils.data import DataLoader\n",
    "\n",
    "lab_to_ind = {0.0: 0, 10.0: 1, 11.0: 2, 12.0: 3, 13.0: 4, 20.0: 5, 21.0: 6, 22.0: 7, 23.0: 8}\n",
    "batch_size = 256\n",
    "\n",
    "# Test\n",
    "y_test = df_test['fact_cwsm_class']\n",
    "y_test = torch.LongTensor(np.asarray([lab_to_ind[lab] for lab in y_test]))\n",
    "\n",
    "test_ds = TensorDataset(X_test, y_test)\n",
    "test_dl = DataLoader(test_ds, batch_size=batch_size, shuffle=False)"
   ]
  },
  {
   "cell_type": "code",
   "execution_count": 9,
   "metadata": {},
   "outputs": [
    {
     "name": "stdout",
     "output_type": "stream",
     "text": [
      "Got CUDA!\n"
     ]
    }
   ],
   "source": [
    "# Get the device\n",
    "\n",
    "def get_default_device():\n",
    "#     # Force cpu for now\n",
    "#     return torch.device('cpu')\n",
    "    if torch.cuda.is_available():\n",
    "        print(\"Got CUDA!\")\n",
    "        return torch.device('cuda')\n",
    "    else:\n",
    "        print(\"No CUDA found\")\n",
    "        return torch.device('cpu')\n",
    "\n",
    "device = get_default_device()"
   ]
  },
  {
   "cell_type": "code",
   "execution_count": 10,
   "metadata": {},
   "outputs": [
    {
     "data": {
      "text/plain": [
       "FTTransformer(\n",
       "  (feature_tokenizer): FeatureTokenizer(\n",
       "    (num_tokenizer): NumericalFeatureTokenizer()\n",
       "  )\n",
       "  (cls_token): CLSToken()\n",
       "  (transformer): Transformer(\n",
       "    (blocks): ModuleList(\n",
       "      (0): ModuleDict(\n",
       "        (attention): MultiheadAttention(\n",
       "          (W_q): Linear(in_features=192, out_features=192, bias=True)\n",
       "          (W_k): Linear(in_features=192, out_features=192, bias=True)\n",
       "          (W_v): Linear(in_features=192, out_features=192, bias=True)\n",
       "          (W_out): Linear(in_features=192, out_features=192, bias=True)\n",
       "          (dropout): Dropout(p=0.2, inplace=False)\n",
       "        )\n",
       "        (ffn): FFN(\n",
       "          (linear_first): Linear(in_features=192, out_features=512, bias=True)\n",
       "          (activation): ReGLU()\n",
       "          (dropout): Dropout(p=0.1, inplace=False)\n",
       "          (linear_second): Linear(in_features=256, out_features=192, bias=True)\n",
       "        )\n",
       "        (attention_residual_dropout): Dropout(p=0.0, inplace=False)\n",
       "        (ffn_residual_dropout): Dropout(p=0.0, inplace=False)\n",
       "        (output): Identity()\n",
       "        (ffn_normalization): LayerNorm((192,), eps=1e-05, elementwise_affine=True)\n",
       "      )\n",
       "      (1): ModuleDict(\n",
       "        (attention): MultiheadAttention(\n",
       "          (W_q): Linear(in_features=192, out_features=192, bias=True)\n",
       "          (W_k): Linear(in_features=192, out_features=192, bias=True)\n",
       "          (W_v): Linear(in_features=192, out_features=192, bias=True)\n",
       "          (W_out): Linear(in_features=192, out_features=192, bias=True)\n",
       "          (dropout): Dropout(p=0.2, inplace=False)\n",
       "        )\n",
       "        (ffn): FFN(\n",
       "          (linear_first): Linear(in_features=192, out_features=512, bias=True)\n",
       "          (activation): ReGLU()\n",
       "          (dropout): Dropout(p=0.1, inplace=False)\n",
       "          (linear_second): Linear(in_features=256, out_features=192, bias=True)\n",
       "        )\n",
       "        (attention_residual_dropout): Dropout(p=0.0, inplace=False)\n",
       "        (ffn_residual_dropout): Dropout(p=0.0, inplace=False)\n",
       "        (output): Identity()\n",
       "        (attention_normalization): LayerNorm((192,), eps=1e-05, elementwise_affine=True)\n",
       "        (ffn_normalization): LayerNorm((192,), eps=1e-05, elementwise_affine=True)\n",
       "      )\n",
       "      (2): ModuleDict(\n",
       "        (attention): MultiheadAttention(\n",
       "          (W_q): Linear(in_features=192, out_features=192, bias=True)\n",
       "          (W_k): Linear(in_features=192, out_features=192, bias=True)\n",
       "          (W_v): Linear(in_features=192, out_features=192, bias=True)\n",
       "          (W_out): Linear(in_features=192, out_features=192, bias=True)\n",
       "          (dropout): Dropout(p=0.2, inplace=False)\n",
       "        )\n",
       "        (ffn): FFN(\n",
       "          (linear_first): Linear(in_features=192, out_features=512, bias=True)\n",
       "          (activation): ReGLU()\n",
       "          (dropout): Dropout(p=0.1, inplace=False)\n",
       "          (linear_second): Linear(in_features=256, out_features=192, bias=True)\n",
       "        )\n",
       "        (attention_residual_dropout): Dropout(p=0.0, inplace=False)\n",
       "        (ffn_residual_dropout): Dropout(p=0.0, inplace=False)\n",
       "        (output): Identity()\n",
       "        (attention_normalization): LayerNorm((192,), eps=1e-05, elementwise_affine=True)\n",
       "        (ffn_normalization): LayerNorm((192,), eps=1e-05, elementwise_affine=True)\n",
       "      )\n",
       "    )\n",
       "    (head): Head(\n",
       "      (normalization): LayerNorm((192,), eps=1e-05, elementwise_affine=True)\n",
       "      (activation): ReLU()\n",
       "      (linear): Linear(in_features=192, out_features=9, bias=True)\n",
       "    )\n",
       "  )\n",
       ")"
      ]
     },
     "execution_count": 10,
     "metadata": {},
     "output_type": "execute_result"
    }
   ],
   "source": [
    "# Create the Feature Transformer Model\n",
    "seed = 1\n",
    "model = rtdl.FTTransformer.make_default(\n",
    "    n_num_features=X_test.shape[1],\n",
    "    cat_cardinalities=None,\n",
    "    last_layer_query_idx=[-1],\n",
    "    d_out=len(lab_to_ind)\n",
    ")\n",
    "\n",
    "model_path = f'./trained_models/FTTransformer/model{seed}.th'\n",
    "model.load_state_dict(torch.load(model_path))\n",
    "model.eval().to(device)"
   ]
  },
  {
   "cell_type": "code",
   "execution_count": 11,
   "metadata": {},
   "outputs": [],
   "source": [
    "# Create pipeline to apply model\n",
    "def apply_model(model, x_num, x_cat=None):\n",
    "    '''\n",
    "    FTTransformer expects numerical and categorical inputs separately\n",
    "    '''\n",
    "    return model(x_num, x_cat) if isinstance(model, rtdl.FTTransformer) else model(x_num)"
   ]
  },
  {
   "cell_type": "code",
   "execution_count": 12,
   "metadata": {},
   "outputs": [
    {
     "name": "stdout",
     "output_type": "stream",
     "text": [
      "940617\n"
     ]
    }
   ],
   "source": [
    "# Get model size\n",
    "def count_parameters(model): return sum(p.numel() for p in model.parameters() if p.requires_grad)\n",
    "\n",
    "print(count_parameters(model))"
   ]
  },
  {
   "cell_type": "code",
   "execution_count": 13,
   "metadata": {},
   "outputs": [],
   "source": [
    "@torch.no_grad()\n",
    "def eval(val_loader, model, device):\n",
    "    '''\n",
    "    Run evaluation\n",
    "    '''\n",
    "    # switch to eval mode\n",
    "    model.eval()\n",
    "    preds = []\n",
    "    \n",
    "    for i, (x, target) in enumerate(val_loader):\n",
    "\n",
    "        x = x.to(device)\n",
    "        target = target.to(device)\n",
    "\n",
    "        # Forward pass\n",
    "        logits = apply_model(model, x)\n",
    "        logits = logits.detach().cpu().numpy().tolist()\n",
    "        preds += logits\n",
    "    \n",
    "    return preds"
   ]
  },
  {
   "cell_type": "code",
   "execution_count": 14,
   "metadata": {},
   "outputs": [],
   "source": [
    "# Performance metrics\n",
    "\n",
    "from sklearn.metrics import accuracy_score\n",
    "from sklearn.metrics import precision_recall_curve\n",
    "\n",
    "def metric_accuracy(preds, targets):\n",
    "    preds = np.asarray(preds)\n",
    "    targets = np.asarray(targets)\n",
    "    pred_inds = np.argmax(np.asarray(preds), axis=1)\n",
    "    return accuracy_score(targets, pred_inds)\n",
    "\n",
    "def get_avg_f1(preds, labels):\n",
    "    '''\n",
    "    Calculate one-vs-all f1 score per class\n",
    "    Return average of f1 scores over all classes\n",
    "    preds: [num_samples x num_classes]\n",
    "    '''\n",
    "    f1s = []\n",
    "    label_inds = labels\n",
    "    class_inds_to_check = list(set(label_inds))\n",
    "\n",
    "    for class_ind_to_check in class_inds_to_check:\n",
    "        y_true = []\n",
    "        y_pred = []\n",
    "        for pred, lab_ind in zip(preds, label_inds):\n",
    "            y_pred.append(pred[class_ind_to_check])\n",
    "            if lab_ind == class_ind_to_check:\n",
    "                y_true.append(1)\n",
    "            else:\n",
    "                y_true.append(0)\n",
    "        precision, recall, _ = precision_recall_curve(y_true, y_pred)\n",
    "        f_scores = (2*precision*recall)/(precision+recall)\n",
    "        f_scores_clean = f_scores[np.logical_not(np.isnan(f_scores))]\n",
    "        f1s.append(np.amax(f_scores_clean))\n",
    "    return np.mean(np.asarray(f1s))\n",
    "    "
   ]
  },
  {
   "cell_type": "code",
   "execution_count": 15,
   "metadata": {},
   "outputs": [],
   "source": [
    "# evaluate on test set\n",
    "preds = eval(test_dl, model, device)\n",
    "targets = [lab_to_ind[lab] for lab in df_test['fact_cwsm_class']]"
   ]
  },
  {
   "cell_type": "code",
   "execution_count": 16,
   "metadata": {},
   "outputs": [],
   "source": [
    "from scipy.special import softmax\n",
    "\n",
    "out_dir = './predictions/FTTransformer/'\n",
    "dataset = 'eval_out/'\n",
    "# save targets\n",
    "np.save(out_dir+dataset+'targets.npy', np.asarray(targets))\n",
    "# save predictions to file\n",
    "probs = softmax(preds, axis=1)\n",
    "np.save(out_dir+dataset+str(seed)+'.npy', np.asarray(probs))"
   ]
  },
  {
   "cell_type": "code",
   "execution_count": 18,
   "metadata": {},
   "outputs": [
    {
     "name": "stderr",
     "output_type": "stream",
     "text": [
      "/home/miproj/4thyr.oct2019/vr311/venv_tabTrans/lib/python3.7/site-packages/ipykernel_launcher.py:32: RuntimeWarning: invalid value encountered in true_divide\n"
     ]
    },
    {
     "name": "stdout",
     "output_type": "stream",
     "text": [
      "0.67126\n",
      "0.457217373002929\n"
     ]
    }
   ],
   "source": [
    "accuracy = metric_accuracy(probs, targets)\n",
    "f_macro = get_avg_f1(probs, targets)\n",
    "print(accuracy)\n",
    "print(f_macro)"
   ]
  },
  {
   "cell_type": "code",
   "execution_count": null,
   "metadata": {},
   "outputs": [],
   "source": []
  },
  {
   "cell_type": "code",
   "execution_count": null,
   "metadata": {},
   "outputs": [],
   "source": []
  }
 ],
 "metadata": {
  "kernelspec": {
   "display_name": "Python 3 (ipykernel)",
   "language": "python",
   "name": "python3"
  },
  "language_info": {
   "codemirror_mode": {
    "name": "ipython",
    "version": 3
   },
   "file_extension": ".py",
   "mimetype": "text/x-python",
   "name": "python",
   "nbconvert_exporter": "python",
   "pygments_lexer": "ipython3",
   "version": "3.7.10"
  }
 },
 "nbformat": 4,
 "nbformat_minor": 2
}
